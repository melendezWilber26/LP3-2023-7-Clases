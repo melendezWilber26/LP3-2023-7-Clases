{
 "cells": [
  {
   "cell_type": "code",
   "execution_count": 1,
   "id": "a291e877",
   "metadata": {},
   "outputs": [],
   "source": [
    "edad = 41"
   ]
  },
  {
   "cell_type": "code",
   "execution_count": 2,
   "id": "98dcb04f",
   "metadata": {},
   "outputs": [
    {
     "data": {
      "text/plain": [
       "41"
      ]
     },
     "execution_count": 2,
     "metadata": {},
     "output_type": "execute_result"
    }
   ],
   "source": [
    "edad"
   ]
  },
  {
   "cell_type": "code",
   "execution_count": 10,
   "id": "0651097d",
   "metadata": {},
   "outputs": [],
   "source": [
    "nombre = \"Wilber\""
   ]
  },
  {
   "cell_type": "code",
   "execution_count": 12,
   "id": "b44225ba",
   "metadata": {},
   "outputs": [
    {
     "data": {
      "text/plain": [
       "'Wilber'"
      ]
     },
     "execution_count": 12,
     "metadata": {},
     "output_type": "execute_result"
    }
   ],
   "source": [
    "nombre"
   ]
  },
  {
   "cell_type": "code",
   "execution_count": 9,
   "id": "f48e7480",
   "metadata": {},
   "outputs": [],
   "source": [
    "apellido = \"Melendez\""
   ]
  },
  {
   "cell_type": "code",
   "execution_count": 11,
   "id": "27070d8e",
   "metadata": {},
   "outputs": [
    {
     "data": {
      "text/plain": [
       "'Melendez'"
      ]
     },
     "execution_count": 11,
     "metadata": {},
     "output_type": "execute_result"
    }
   ],
   "source": [
    "apellido"
   ]
  },
  {
   "cell_type": "code",
   "execution_count": 13,
   "id": "b7eebfc1",
   "metadata": {},
   "outputs": [
    {
     "data": {
      "text/plain": [
       "'WilberMelendez'"
      ]
     },
     "execution_count": 13,
     "metadata": {},
     "output_type": "execute_result"
    }
   ],
   "source": [
    "nombrecompleto = nombre + apellido\n",
    "nombrecompleto"
   ]
  },
  {
   "cell_type": "code",
   "execution_count": 14,
   "id": "9cdc74f6",
   "metadata": {},
   "outputs": [
    {
     "data": {
      "text/plain": [
       "'Wilber Melendez'"
      ]
     },
     "execution_count": 14,
     "metadata": {},
     "output_type": "execute_result"
    }
   ],
   "source": [
    "nombrecompleto = nombre + \" \" + apellido \n",
    "nombrecompleto"
   ]
  },
  {
   "cell_type": "code",
   "execution_count": 15,
   "id": "bb40c3b1",
   "metadata": {},
   "outputs": [
    {
     "data": {
      "text/plain": [
       "int"
      ]
     },
     "execution_count": 15,
     "metadata": {},
     "output_type": "execute_result"
    }
   ],
   "source": [
    "# Para saber el tipo de variable utilizamos la funcion type ()\n",
    "#Por ejemplo :\n",
    "numero = 50\n",
    "type (numero)"
   ]
  },
  {
   "cell_type": "code",
   "execution_count": 10,
   "id": "4fe24464",
   "metadata": {},
   "outputs": [
    {
     "data": {
      "text/plain": [
       "str"
      ]
     },
     "execution_count": 10,
     "metadata": {},
     "output_type": "execute_result"
    }
   ],
   "source": [
    "type(nombre)"
   ]
  },
  {
   "cell_type": "code",
   "execution_count": 11,
   "id": "bbb7ead7",
   "metadata": {},
   "outputs": [
    {
     "data": {
      "text/plain": [
       "1.65"
      ]
     },
     "execution_count": 11,
     "metadata": {},
     "output_type": "execute_result"
    }
   ],
   "source": [
    "talla = 1.65\n",
    "talla"
   ]
  },
  {
   "cell_type": "code",
   "execution_count": 12,
   "id": "d3a56e21",
   "metadata": {},
   "outputs": [
    {
     "data": {
      "text/plain": [
       "'100'"
      ]
     },
     "execution_count": 12,
     "metadata": {},
     "output_type": "execute_result"
    }
   ],
   "source": [
    "#Para convertir un numero en cadena utilizamos str()\n",
    "numero = 100\n",
    "cadena = str(numero)\n",
    "cadena"
   ]
  },
  {
   "cell_type": "code",
   "execution_count": 13,
   "id": "d1bdf939",
   "metadata": {},
   "outputs": [
    {
     "data": {
      "text/plain": [
       "str"
      ]
     },
     "execution_count": 13,
     "metadata": {},
     "output_type": "execute_result"
    }
   ],
   "source": [
    "type (cadena)"
   ]
  },
  {
   "cell_type": "code",
   "execution_count": 14,
   "id": "13dd89e3",
   "metadata": {},
   "outputs": [
    {
     "data": {
      "text/plain": [
       "50"
      ]
     },
     "execution_count": 14,
     "metadata": {},
     "output_type": "execute_result"
    }
   ],
   "source": [
    "#Para convertir una cadena en un entorno utilizamos int()\n",
    "cadena2 = \"50\"\n",
    "numero2 = int(cadena2)\n",
    "numero2"
   ]
  },
  {
   "cell_type": "code",
   "execution_count": 15,
   "id": "3a2134a4",
   "metadata": {},
   "outputs": [
    {
     "data": {
      "text/plain": [
       "int"
      ]
     },
     "execution_count": 15,
     "metadata": {},
     "output_type": "execute_result"
    }
   ],
   "source": [
    "type(numero2)"
   ]
  },
  {
   "cell_type": "code",
   "execution_count": 16,
   "id": "a32233da",
   "metadata": {},
   "outputs": [
    {
     "data": {
      "text/plain": [
       "50.0"
      ]
     },
     "execution_count": 16,
     "metadata": {},
     "output_type": "execute_result"
    }
   ],
   "source": [
    "#Para convertir una cadena en un decimal utilizamos float()\n",
    "cadena2=\"50\"\n",
    "numero2 = float (cadena2)\n",
    "numero2"
   ]
  },
  {
   "cell_type": "code",
   "execution_count": 17,
   "id": "e0d64577",
   "metadata": {},
   "outputs": [
    {
     "data": {
      "text/plain": [
       "float"
      ]
     },
     "execution_count": 17,
     "metadata": {},
     "output_type": "execute_result"
    }
   ],
   "source": [
    "type(numero2)"
   ]
  },
  {
   "cell_type": "code",
   "execution_count": null,
   "id": "0b629dd4",
   "metadata": {},
   "outputs": [],
   "source": []
  }
 ],
 "metadata": {
  "kernelspec": {
   "display_name": "Python 3 (ipykernel)",
   "language": "python",
   "name": "python3"
  },
  "language_info": {
   "codemirror_mode": {
    "name": "ipython",
    "version": 3
   },
   "file_extension": ".py",
   "mimetype": "text/x-python",
   "name": "python",
   "nbconvert_exporter": "python",
   "pygments_lexer": "ipython3",
   "version": "3.9.12"
  }
 },
 "nbformat": 4,
 "nbformat_minor": 5
}
