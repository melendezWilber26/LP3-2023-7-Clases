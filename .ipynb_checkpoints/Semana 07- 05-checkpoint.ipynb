{
 "cells": [
  {
   "cell_type": "markdown",
   "id": "ffcedbc2",
   "metadata": {},
   "source": [
    "# Semana 07\n",
    "Daniel Carhuancho Almanza"
   ]
  },
  {
   "cell_type": "markdown",
   "id": "ef0f66a4",
   "metadata": {},
   "source": [
    "Temas :\n",
    "1. Numeros\n",
    "2. Variables\n",
    "3. Manejo de cadenas\n",
    "4. Ingreso de Datos por el Teclado\n",
    "5 .Operaciones"
   ]
  },
  {
   "cell_type": "markdown",
   "id": "631aa259",
   "metadata": {},
   "source": [
    "5 .Operaciones"
   ]
  },
  {
   "cell_type": "code",
   "execution_count": 5,
   "id": "2ba0112a",
   "metadata": {},
   "outputs": [
    {
     "name": "stdout",
     "output_type": "stream",
     "text": [
      "13\n",
      "7\n",
      "30\n",
      "3.3333333333333335\n",
      "1\n",
      "3\n",
      "1000\n"
     ]
    }
   ],
   "source": [
    "#5.1 Operadores aritmeticos\n",
    "# Se tiene : +, -,\n",
    "numero1 = 10\n",
    "numero2 = 3\n",
    "suma = numero1 + numero2\n",
    "resta = numero1 - numero2\n",
    "multiplicacion = numero1 * numero2\n",
    "division = numero1 / numero2\n",
    "residuo = numero1 % numero2\n",
    "cociente = numero1 // numero2\n",
    "potencia = numero1 ** numero2\n",
    "print(suma)\n",
    "print(resta)\n",
    "print(multiplicacion)\n",
    "print(division)\n",
    "print(residuo)\n",
    "print(cociente)\n",
    "print(potencia)\n"
   ]
  },
  {
   "cell_type": "code",
   "execution_count": null,
   "id": "00e68c56",
   "metadata": {},
   "outputs": [],
   "source": []
  }
 ],
 "metadata": {
  "kernelspec": {
   "display_name": "Python 3 (ipykernel)",
   "language": "python",
   "name": "python3"
  },
  "language_info": {
   "codemirror_mode": {
    "name": "ipython",
    "version": 3
   },
   "file_extension": ".py",
   "mimetype": "text/x-python",
   "name": "python",
   "nbconvert_exporter": "python",
   "pygments_lexer": "ipython3",
   "version": "3.9.12"
  }
 },
 "nbformat": 4,
 "nbformat_minor": 5
}
