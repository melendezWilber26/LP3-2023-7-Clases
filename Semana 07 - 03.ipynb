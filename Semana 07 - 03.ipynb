{
 "cells": [
  {
   "cell_type": "markdown",
   "id": "426843eb",
   "metadata": {},
   "source": [
    "# Semana 07\n",
    "Melendez Francisco Wilber\n"
   ]
  },
  {
   "cell_type": "markdown",
   "id": "228fb777",
   "metadata": {},
   "source": [
    "# Temas :\n",
    "\n",
    "1. Variables\n",
    "2. Manejo de cadenas\n",
    "3. Ingreso de Datos por el Teclado\n",
    "4. Operaciones"
   ]
  },
  {
   "cell_type": "markdown",
   "id": "60925d21",
   "metadata": {},
   "source": [
    " 3. Manejo de Cadenas"
   ]
  },
  {
   "cell_type": "code",
   "execution_count": 4,
   "id": "996ac57e",
   "metadata": {},
   "outputs": [
    {
     "data": {
      "text/plain": [
       "'Universidad Nacional Tecnologica de Lima Sur'"
      ]
     },
     "execution_count": 4,
     "metadata": {},
     "output_type": "execute_result"
    }
   ],
   "source": [
    "cadena = \"Universidad Nacional Tecnologica de Lima Sur\"\n",
    "cadena"
   ]
  },
  {
   "cell_type": "code",
   "execution_count": 5,
   "id": "a6588d5d",
   "metadata": {},
   "outputs": [],
   "source": [
    "#Universidad Nacional Tecnologica de Lima sur\n",
    "#0.123456...\n",
    "#                            -2-1"
   ]
  },
  {
   "cell_type": "code",
   "execution_count": 6,
   "id": "42390fe9",
   "metadata": {},
   "outputs": [
    {
     "data": {
      "text/plain": [
       "'r'"
      ]
     },
     "execution_count": 6,
     "metadata": {},
     "output_type": "execute_result"
    }
   ],
   "source": [
    "cadena[5]"
   ]
  },
  {
   "cell_type": "code",
   "execution_count": 7,
   "id": "95ed9dd3",
   "metadata": {},
   "outputs": [
    {
     "data": {
      "text/plain": [
       "'d'"
      ]
     },
     "execution_count": 7,
     "metadata": {},
     "output_type": "execute_result"
    }
   ],
   "source": [
    "cadena[10]"
   ]
  },
  {
   "cell_type": "code",
   "execution_count": 8,
   "id": "986ca956",
   "metadata": {},
   "outputs": [
    {
     "data": {
      "text/plain": [
       "' '"
      ]
     },
     "execution_count": 8,
     "metadata": {},
     "output_type": "execute_result"
    }
   ],
   "source": [
    "#Tambien considera los espacios\n",
    "cadena[11]"
   ]
  },
  {
   "cell_type": "code",
   "execution_count": 9,
   "id": "13fee961",
   "metadata": {},
   "outputs": [
    {
     "data": {
      "text/plain": [
       "'a'"
      ]
     },
     "execution_count": 9,
     "metadata": {},
     "output_type": "execute_result"
    }
   ],
   "source": [
    "#¿Que se mostrara?\n",
    "cadena[-5]"
   ]
  },
  {
   "cell_type": "code",
   "execution_count": 10,
   "id": "2164bff6",
   "metadata": {},
   "outputs": [
    {
     "data": {
      "text/plain": [
       "'T'"
      ]
     },
     "execution_count": 10,
     "metadata": {},
     "output_type": "execute_result"
    }
   ],
   "source": [
    "cadena [21]"
   ]
  },
  {
   "cell_type": "code",
   "execution_count": 11,
   "id": "35d7baa9",
   "metadata": {},
   "outputs": [
    {
     "data": {
      "text/plain": [
       "'T'"
      ]
     },
     "execution_count": 11,
     "metadata": {},
     "output_type": "execute_result"
    }
   ],
   "source": [
    "#Tambien puedo mostrar acediendo de manera inversa\n",
    "cadena[-23]\n"
   ]
  },
  {
   "cell_type": "code",
   "execution_count": 12,
   "id": "e2870850",
   "metadata": {},
   "outputs": [
    {
     "data": {
      "text/plain": [
       "'versidad Nacion'"
      ]
     },
     "execution_count": 12,
     "metadata": {},
     "output_type": "execute_result"
    }
   ],
   "source": [
    "#Para mostrar una subcadena (desde, hasta una nates)\n",
    "#En java era subtring()\n",
    "cadena[3:18]"
   ]
  },
  {
   "cell_type": "code",
   "execution_count": 13,
   "id": "3dd6c2e6",
   "metadata": {},
   "outputs": [
    {
     "data": {
      "text/plain": [
       "44"
      ]
     },
     "execution_count": 13,
     "metadata": {},
     "output_type": "execute_result"
    }
   ],
   "source": [
    "#Para saber el tamaño de una cadena utilizamos len()\n",
    "#incluye espacios en blanco\n",
    "len(cadena)"
   ]
  },
  {
   "cell_type": "code",
   "execution_count": 14,
   "id": "78cedb47",
   "metadata": {},
   "outputs": [
    {
     "data": {
      "text/plain": [
       "'UNIVERSIDAD NACIONAL TECNOLOGICA DE LIMA SUR'"
      ]
     },
     "execution_count": 14,
     "metadata": {},
     "output_type": "execute_result"
    }
   ],
   "source": [
    "#Para mostrar una cadena en mayuscula utilizamos upper()\n",
    "cadena.upper()"
   ]
  },
  {
   "cell_type": "code",
   "execution_count": 15,
   "id": "0f8b0104",
   "metadata": {},
   "outputs": [],
   "source": [
    "# Ojo ... Solo muestra, porque "
   ]
  },
  {
   "cell_type": "code",
   "execution_count": 16,
   "id": "3bd9d088",
   "metadata": {},
   "outputs": [
    {
     "data": {
      "text/plain": [
       "'universidad nacional tecnologica de lima sur'"
      ]
     },
     "execution_count": 16,
     "metadata": {},
     "output_type": "execute_result"
    }
   ],
   "source": [
    "# Para mostrar una cadean en mimnuscual utilizamos lowe()\n",
    "cadena.lower()"
   ]
  },
  {
   "cell_type": "code",
   "execution_count": 17,
   "id": "84aeb9e4",
   "metadata": {},
   "outputs": [
    {
     "data": {
      "text/plain": [
       "['Universidad', 'Nacional', 'Tecnologica', 'de', 'Lima', 'Sur']"
      ]
     },
     "execution_count": 17,
     "metadata": {},
     "output_type": "execute_result"
    }
   ],
   "source": [
    "#Generar una lista a partir de una cadena. split()\n",
    "cadena.split()"
   ]
  },
  {
   "cell_type": "code",
   "execution_count": 18,
   "id": "4246066e",
   "metadata": {},
   "outputs": [
    {
     "data": {
      "text/plain": [
       "['Universid', 'd N', 'cion', 'l Tecnologic', ' de Lim', ' Sur']"
      ]
     },
     "execution_count": 18,
     "metadata": {},
     "output_type": "execute_result"
    }
   ],
   "source": [
    "#Generar una lista  utilizando un criterio de separacion a partir de una cadena split()\n",
    "#En este caso vamos a generar una lista de toda la cadean\n",
    "#Utilizando como criterio de separacion la letra \"A\"\n",
    "cadena.split(\"a\")"
   ]
  },
  {
   "cell_type": "code",
   "execution_count": 19,
   "id": "8b8ec2aa",
   "metadata": {},
   "outputs": [
    {
     "name": "stdout",
     "output_type": "stream",
     "text": [
      "Buenas tardes Daniel Carhuancho\n"
     ]
    }
   ],
   "source": [
    "#Forma clasica, concretar con +\n",
    "nombre = \"Daniel Carhuancho\"\n",
    "print (\"Buenas tardes \"+ nombre)"
   ]
  },
  {
   "cell_type": "code",
   "execution_count": 23,
   "id": "c5ece775",
   "metadata": {},
   "outputs": [
    {
     "name": "stdout",
     "output_type": "stream",
     "text": [
      "Hola Pablo levano ya se que tienes 10 años\n"
     ]
    }
   ],
   "source": [
    "#Utilizando el.format()\n",
    "nombre=\"Pablo levano\"\n",
    "edad = 10\n",
    "print (\"Hola {} ya se que tienes {} años\".format(nombre, edad))"
   ]
  },
  {
   "cell_type": "code",
   "execution_count": 25,
   "id": "36f4dd52",
   "metadata": {},
   "outputs": [
    {
     "name": "stdout",
     "output_type": "stream",
     "text": [
      "10/3 es = 3.3333333333333335\n",
      "10/3 es = 3.333\n"
     ]
    }
   ],
   "source": [
    "# Dar formato a numeros con muchos decimales\n",
    "resultados = 10/3\n",
    "print(\"10/3 es = {}\".format(resultados))\n",
    "print(\"10/3 es = {r:1.3f}\".format(r=resultados))"
   ]
  },
  {
   "cell_type": "code",
   "execution_count": 29,
   "id": "8d44bf34",
   "metadata": {},
   "outputs": [
    {
     "name": "stdout",
     "output_type": "stream",
     "text": [
      "buenos dias Daniel levano, ya se que tienes 8 años\n"
     ]
    }
   ],
   "source": [
    "#Dar formato con f\n",
    "# La funcion f, esta disponible desde la version 3.6\n",
    "nombre = \"Daniel levano\"\n",
    "edad = 8\n",
    "print (f\"buenos dias {nombre}, ya se que tienes {edad} años\")"
   ]
  },
  {
   "cell_type": "code",
   "execution_count": null,
   "id": "be747e65",
   "metadata": {},
   "outputs": [],
   "source": []
  }
 ],
 "metadata": {
  "kernelspec": {
   "display_name": "Python 3 (ipykernel)",
   "language": "python",
   "name": "python3"
  },
  "language_info": {
   "codemirror_mode": {
    "name": "ipython",
    "version": 3
   },
   "file_extension": ".py",
   "mimetype": "text/x-python",
   "name": "python",
   "nbconvert_exporter": "python",
   "pygments_lexer": "ipython3",
   "version": "3.9.12"
  }
 },
 "nbformat": 4,
 "nbformat_minor": 5
}
